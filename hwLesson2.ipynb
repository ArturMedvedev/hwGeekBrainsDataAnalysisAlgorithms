{
 "cells": [
  {
   "cell_type": "code",
   "execution_count": 38,
   "metadata": {},
   "outputs": [],
   "source": [
    "import numpy as np\n",
    "import matplotlib.pyplot as plt\n",
    "from linear_regression import linear_regression\n",
    "from sklearn.linear_model import LinearRegression as sklearn_LR\n",
    "%matplotlib inline"
   ]
  },
  {
   "cell_type": "code",
   "execution_count": 39,
   "metadata": {},
   "outputs": [],
   "source": [
    "import numpy as np\n",
    "class linear_regression:\n",
    "    def __init__(self, eta = 0.9, max_iter = 1e4, min_weight_dist = 1e-8):\n",
    "        self.eta = eta\n",
    "        self.max_iter = max_iter\n",
    "        self.min_weight_dist = min_weight_dist\n",
    "    def _mserror(self, X, y_real):\n",
    "        #рассчёт среднеквадратичной ошибки\n",
    "        y = X.dot(self.w.T)+self.w0\n",
    "        return np.sum((y - y_real)**2) / y_real.shape[0]\n",
    "    def _mserror_grad(self, X, y_real):\n",
    "        #рассчёт градиента ошибки.\n",
    "        #2*delta.T.dot(X)/y_real.shape[0] - градиент по коэффициентам при факторах\n",
    "        #np.sum(2*delta)/y_real.shape[0] - производная(градиент) при нулевом коэффициенте\n",
    "        delta=(X.dot(self.w.T)+self.w0-y_real)\n",
    "        return 2*delta.T.dot(X)/y_real.shape[0], np.sum(2*delta)/y_real.shape[0]\n",
    "    def _optimize(self, X, Y):\n",
    "        #оптимизация коэффициентов\n",
    "        iter_num = 0\n",
    "        weight_dist = np.inf\n",
    "        self.w = np.zeros((1, X.shape[1]))\n",
    "        self.w0=0\n",
    "        while weight_dist > self.min_weight_dist and iter_num < self.max_iter:\n",
    "            gr_w, gr_w0=self._mserror_grad(X, Y)\n",
    "            if iter_num==0:\n",
    "                #Чтобы eta адаптировалась к порядку градиента, делим на l2 норму градиента в нуле\n",
    "                eta=self.eta/np.sqrt(np.linalg.norm(gr_w)**2+(gr_w0)**2)\n",
    "            new_w = self.w - eta * gr_w\n",
    "            new_w0= self.w0 - eta * gr_w0\n",
    "            weight_dist = np.sqrt(np.linalg.norm(new_w - self.w)**2+(new_w0 - self.w0)**2)\n",
    "            iter_num += 1\n",
    "            self.w = new_w\n",
    "            self.w0 = new_w0\n",
    "    def fit(self, X, Y):\n",
    "        if Y.ndim==1:\n",
    "            Y=Y[:, np.newaxis]\n",
    "        self._optimize(X, Y)\n",
    "    def predict(self, X):\n",
    "        return (X.dot(self.w.T)+self.w0).flatten()\n",
    "    def test(self, X, Y):\n",
    "        if Y.ndim==1:\n",
    "            Y=Y[:, np.newaxis]\n",
    "        return self._mserror(X, Y)"
   ]
  },
  {
   "cell_type": "code",
   "execution_count": 45,
   "metadata": {},
   "outputs": [],
   "source": [
    "class L2_regr(linear_regression):\n",
    "        \n",
    "    def _mserror(self, X, y_real):\n",
    "        c = 0.5\n",
    "        y = X.dot(self.w.T)+self.w0\n",
    "        return (np.sum((y - y_real)**2) / y_real.shape[0]) + c * (np.sum(self.w)**2)\n",
    "    \n",
    "    def _mserror_grad(self, X, y_real):\n",
    "        c = 0.5\n",
    "        delta=(X.dot(self.w.T)+self.w0-y_real)\n",
    "        return (2*delta.T.dot(X)/y_real.shape[0]) + c * (np.sum(self.w)**2), np.sum(2*delta)/y_real.shape[0]"
   ]
  },
  {
   "cell_type": "markdown",
   "metadata": {},
   "source": [
    "А как это опробовать, я так и не понял."
   ]
  }
 ],
 "metadata": {
  "kernelspec": {
   "display_name": "Python 3",
   "language": "python",
   "name": "python3"
  },
  "language_info": {
   "codemirror_mode": {
    "name": "ipython",
    "version": 3
   },
   "file_extension": ".py",
   "mimetype": "text/x-python",
   "name": "python",
   "nbconvert_exporter": "python",
   "pygments_lexer": "ipython3",
   "version": "3.8.3"
  }
 },
 "nbformat": 4,
 "nbformat_minor": 4
}
